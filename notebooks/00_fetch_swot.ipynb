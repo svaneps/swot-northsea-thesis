{
 "cells": [
  {
   "cell_type": "code",
   "execution_count": 1,
   "id": "d10b8d9d",
   "metadata": {},
   "outputs": [
    {
     "data": {
      "text/plain": [
       "PosixPath('/Users/stephanvaneps/Documents/TU Delft/MsC HE/Thesis/Github/swot-northsea-thesis/data/raw')"
      ]
     },
     "execution_count": 1,
     "metadata": {},
     "output_type": "execute_result"
    }
   ],
   "source": [
    "from pathlib import Path\n",
    "import sys\n",
    "\n",
    "# add the src/ folder to Python path (notebook is in notebooks/)\n",
    "sys.path.append(str((Path.cwd().parent / \"src\").resolve()))\n",
    "\n",
    "from download_swot import check_login, search_download, UNSMOOTHED, EXPERT\n",
    "\n",
    "# base folder for results (not strictly needed; search_download makes subfolders)\n",
    "raw_dir = (Path.cwd().parent / \"data\" / \"raw\").resolve()\n",
    "raw_dir"
   ]
  },
  {
   "cell_type": "code",
   "execution_count": 6,
   "id": "f2e0aa00",
   "metadata": {},
   "outputs": [],
   "source": [
    "# config\n",
    "bbox = [-1.0, 51.0, 7.0, 60.0]  # North Sea box\n",
    "#periods = [\n",
    "    #(\"2024-11-12\", \"2024-11-26\"),\n",
    "    #(\"2024-11-28\", \"2024-12-12\"),\n",
    "    #(\"2024-12-12\", \"2024-12-28\"),\n",
    "#]\n",
    "periods = [\n",
    "    (\"2024-11-28\", \"2024-12-12\"),\n",
    "    (\"2024-12-12\", \"2024-12-28\"),\n",
    "]\n",
    "products = {UNSMOOTHED: \"unsmoothed\", EXPERT: \"expert\"}\n"
   ]
  },
  {
   "cell_type": "code",
   "execution_count": 3,
   "id": "e01f85be",
   "metadata": {},
   "outputs": [
    {
     "name": "stdout",
     "output_type": "stream",
     "text": [
      "[info] Earthdata login OK (netrc)\n"
     ]
    }
   ],
   "source": [
    "if not check_login():\n",
    "    raise SystemExit(\"Earthdata login failed. Fix ~/.netrc or env vars and rerun.\")"
   ]
  },
  {
   "cell_type": "code",
   "execution_count": 7,
   "id": "988fc006",
   "metadata": {},
   "outputs": [
    {
     "name": "stdout",
     "output_type": "stream",
     "text": [
      "\n",
      "=== expert: 2024-11-28 → 2024-12-12 ===\n"
     ]
    },
    {
     "data": {
      "application/vnd.jupyter.widget-view+json": {
       "model_id": "8380960365a64620a6b4654ee83dd80b",
       "version_major": 2,
       "version_minor": 0
      },
      "text/plain": [
       "QUEUEING TASKS | :   0%|          | 0/21 [00:00<?, ?it/s]"
      ]
     },
     "metadata": {},
     "output_type": "display_data"
    },
    {
     "data": {
      "application/vnd.jupyter.widget-view+json": {
       "model_id": "9b0fd01472db4a89bededd91fa0b93b5",
       "version_major": 2,
       "version_minor": 0
      },
      "text/plain": [
       "PROCESSING TASKS | :   0%|          | 0/21 [00:00<?, ?it/s]"
      ]
     },
     "metadata": {},
     "output_type": "display_data"
    },
    {
     "data": {
      "application/vnd.jupyter.widget-view+json": {
       "model_id": "61b2009fbb9442489efd19d5b557bf8a",
       "version_major": 2,
       "version_minor": 0
      },
      "text/plain": [
       "COLLECTING RESULTS | :   0%|          | 0/21 [00:00<?, ?it/s]"
      ]
     },
     "metadata": {},
     "output_type": "display_data"
    },
    {
     "name": "stdout",
     "output_type": "stream",
     "text": [
      "[info] Downloaded 21 files → /Users/stephanvaneps/Documents/TU Delft/MsC HE/Thesis/Github/swot-northsea-thesis/data/raw/expert/2024-11-28_2024-12-12 (697.0 MB)\n",
      "Saved 21 file(s) to /Users/stephanvaneps/Documents/TU Delft/MsC HE/Thesis/Github/swot-northsea-thesis/data/raw/expert/2024-11-28_2024-12-12\n",
      "\n",
      "=== expert: 2024-12-12 → 2024-12-28 ===\n"
     ]
    },
    {
     "data": {
      "application/vnd.jupyter.widget-view+json": {
       "model_id": "31aec4ed96bd43f18474fe1c50094cd5",
       "version_major": 2,
       "version_minor": 0
      },
      "text/plain": [
       "QUEUEING TASKS | :   0%|          | 0/19 [00:00<?, ?it/s]"
      ]
     },
     "metadata": {},
     "output_type": "display_data"
    },
    {
     "data": {
      "application/vnd.jupyter.widget-view+json": {
       "model_id": "24ab418f891243b7bf3497e22a650178",
       "version_major": 2,
       "version_minor": 0
      },
      "text/plain": [
       "PROCESSING TASKS | :   0%|          | 0/19 [00:00<?, ?it/s]"
      ]
     },
     "metadata": {},
     "output_type": "display_data"
    },
    {
     "data": {
      "application/vnd.jupyter.widget-view+json": {
       "model_id": "280e049adff544a7b9620702b3b08626",
       "version_major": 2,
       "version_minor": 0
      },
      "text/plain": [
       "COLLECTING RESULTS | :   0%|          | 0/19 [00:00<?, ?it/s]"
      ]
     },
     "metadata": {},
     "output_type": "display_data"
    },
    {
     "name": "stdout",
     "output_type": "stream",
     "text": [
      "[info] Downloaded 19 files → /Users/stephanvaneps/Documents/TU Delft/MsC HE/Thesis/Github/swot-northsea-thesis/data/raw/expert/2024-12-12_2024-12-28 (615.1 MB)\n",
      "Saved 19 file(s) to /Users/stephanvaneps/Documents/TU Delft/MsC HE/Thesis/Github/swot-northsea-thesis/data/raw/expert/2024-12-12_2024-12-28\n"
     ]
    }
   ],
   "source": [
    "raw_dir = Path.cwd().parent / \"data\" / \"raw\" / \"expert\"\n",
    "\n",
    "for start, end in periods:\n",
    "    outdir = raw_dir / f\"{start}_{end}\"\n",
    "    print(f\"\\n=== expert: {start} → {end} ===\")\n",
    "    paths = search_download(EXPERT, bbox, start, end, outdir)\n",
    "    print(f\"Saved {len(paths)} file(s) to {outdir}\")"
   ]
  },
  {
   "cell_type": "code",
   "execution_count": null,
   "id": "5c491dab",
   "metadata": {},
   "outputs": [],
   "source": []
  },
  {
   "cell_type": "code",
   "execution_count": null,
   "id": "b8a8c4a5",
   "metadata": {},
   "outputs": [],
   "source": []
  }
 ],
 "metadata": {
  "kernelspec": {
   "display_name": "swot-base",
   "language": "python",
   "name": "python3"
  },
  "language_info": {
   "codemirror_mode": {
    "name": "ipython",
    "version": 3
   },
   "file_extension": ".py",
   "mimetype": "text/x-python",
   "name": "python",
   "nbconvert_exporter": "python",
   "pygments_lexer": "ipython3",
   "version": "3.11.13"
  }
 },
 "nbformat": 4,
 "nbformat_minor": 5
}
